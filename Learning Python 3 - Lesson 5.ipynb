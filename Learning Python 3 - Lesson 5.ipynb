{
 "cells": [
  {
   "cell_type": "markdown",
   "metadata": {},
   "source": [
    "## Python Dictionary\n",
    "\n",
    "### Creating a dictionary in Python"
   ]
  },
  {
   "cell_type": "code",
   "execution_count": null,
   "metadata": {
    "collapsed": true
   },
   "outputs": [],
   "source": [
    "# empty dictionary\n",
    "my_dict = {}\n",
    "# dictionary with integer keys\n",
    "my_dict = {1: 'apple', 2: 'ball'}\n",
    "# dictionary with mixed keys\n",
    "my_dict = {'name': 'John', 1: [2, 4, 3]}\n",
    "# using dict()\n",
    "my_dict = dict({1:'apple', 2:'ball'})\n",
    "# from sequence having each item as a pair\n",
    "my_dict = dict([(1,'apple'), (2,'ball')])"
   ]
  },
  {
   "cell_type": "markdown",
   "metadata": {},
   "source": [
    "### How to change or add elements in a dictionary?\n",
    "\n",
    "Dictionary are mutable. We can add new items or change the value of existing items using assignment operator.\n",
    "\n",
    "If the key is already present, value gets updated, else a new key: value pair is added to the dictionary."
   ]
  },
  {
   "cell_type": "code",
   "execution_count": null,
   "metadata": {
    "collapsed": true
   },
   "outputs": [],
   "source": [
    "my_dict = {'name':'Jack', 'age': 26}\n",
    "\n",
    "# update value\n",
    "my_dict['age'] = 27\n",
    "\n",
    "#Output: {'age': 27, 'name': 'Jack'}\n",
    "print(my_dict)\n",
    "\n",
    "# add item\n",
    "my_dict['address'] = 'Downtown'  \n",
    "\n",
    "# Output: {'address': 'Downtown', 'age': 27, 'name': 'Jack'}\n",
    "print(my_dict)"
   ]
  },
  {
   "cell_type": "markdown",
   "metadata": {},
   "source": [
    "## Python Dictionary Functions\n",
    "<table border=\"1\">\n",
    "\t<caption>Python Dictionary Methods</caption>\n",
    "\t<tbody>\n",
    "\t\t<tr>\n",
    "\t\t\t<th scope=\"col\">Method</th>\n",
    "\t\t\t<th scope=\"col\">Description</th>\n",
    "\t\t</tr>\n",
    "\t\t<tr>\n",
    "\t\t\t<td>clear()</td>\n",
    "\t\t\t<td>Remove all items form the dictionary.</td>\n",
    "\t\t</tr>\n",
    "\t\t<tr>\n",
    "\t\t\t<td>copy()</td>\n",
    "\t\t\t<td>Return a shallow copy of the dictionary.</td>\n",
    "\t\t</tr>\n",
    "\t\t<tr>\n",
    "\t\t\t<td>fromkeys(<var>seq</var>[, <var>v</var>])</td>\n",
    "\t\t\t<td>Return a new dictionary with keys from <var>seq</var> and value equal to <var>v</var> (defaults to <code>None</code>).</td>\n",
    "\t\t</tr>\n",
    "\t\t<tr>\n",
    "\t\t\t<td>get(<var>key</var>[,<var>d</var>])</td>\n",
    "\t\t\t<td>Return the value of <var>key</var>. If <var>key</var> doesnot exit, return <var>d</var> (defaults to <code>None</code>).</td>\n",
    "\t\t</tr>\n",
    "\t\t<tr>\n",
    "\t\t\t<td>items()</td>\n",
    "\t\t\t<td>Return a new view of the dictionary's items (key, value).</td>\n",
    "\t\t</tr>\n",
    "\t\t<tr>\n",
    "\t\t\t<td>keys()</td>\n",
    "\t\t\t<td>Return a new view of the dictionary's keys.</td>\n",
    "\t\t</tr>\n",
    "\t\t<tr>\n",
    "\t\t\t<td>pop(<var>key</var>[,<var>d</var>])</td>\n",
    "\t\t\t<td>Remove the item with <var>key</var> and return its value or <var>d</var> if <var>key</var> is not found. If <var>d</var> is not provided and <var>key</var> is not found, raises <code>KeyError</code>.</td>\n",
    "\t\t</tr>\n",
    "\t\t<tr>\n",
    "\t\t\t<td>popitem()</td>\n",
    "\t\t\t<td>Remove and return an arbitary item (key, value). Raises <code>KeyError</code> if the dictionary is empty.</td>\n",
    "\t\t</tr>\n",
    "\t\t<tr>\n",
    "\t\t\t<td>setdefault(<var>key</var>[,<var>d</var>])</td>\n",
    "\t\t\t<td>If <var>key</var> is in the dictionary, return its value. If not, insert <var>key</var> with a value of <var>d</var> and return <var>d</var> (defaults to <code>None</code>).</td>\n",
    "\t\t</tr>\n",
    "\t\t<tr>\n",
    "\t\t\t<td>update([<var>other</var>])</td>\n",
    "\t\t\t<td>Update the dictionary with the key/value pairs from <var>other</var>, overwriting existing keys.</td>\n",
    "\t\t</tr>\n",
    "\t\t<tr>\n",
    "\t\t\t<td>values()</td>\n",
    "\t\t\t<td>Return a new view of the dictionary's values</td>\n",
    "\t\t</tr>\n",
    "\t</tbody>\n",
    "</table>"
   ]
  },
  {
   "cell_type": "markdown",
   "metadata": {},
   "source": [
    "### Python Dictionary Comprehension\n",
    "\n",
    "Dictionary comprehension consists of an expression pair (key: value) followed by for statement inside curly braces {}.\n",
    "\n",
    "Here is an example to make a dictionary with each item being a pair of a number and its square."
   ]
  },
  {
   "cell_type": "code",
   "execution_count": null,
   "metadata": {
    "collapsed": true
   },
   "outputs": [],
   "source": [
    "squares = {x: x*x for x in range(6)}\n",
    "\n",
    "# Output: {0: 0, 1: 1, 2: 4, 3: 9, 4: 16, 5: 25}\n",
    "print(squares)\n",
    "\n",
    "odd_squares = {x: x*x for x in range(11) if x%2 == 1}\n",
    "\n",
    "# Output: {1: 1, 3: 9, 5: 25, 7: 49, 9: 81}\n",
    "print(odd_squares)"
   ]
  },
  {
   "cell_type": "markdown",
   "metadata": {},
   "source": [
    "### Create a Nested Dictionary"
   ]
  },
  {
   "cell_type": "code",
   "execution_count": null,
   "metadata": {
    "collapsed": false
   },
   "outputs": [],
   "source": [
    "people = {1: {'name': 'John', 'age': '27', 'sex': 'Male'},\n",
    "          2: {'name': 'Marie', 'age': '22', 'sex': 'Female'}}\n",
    "\n",
    "print(people)\n",
    "\n",
    "#Accessing elements of a nested dictionary\n",
    "print(people[1]['name'])\n",
    "print(people[1]['age'])\n",
    "print(people[1]['sex'])"
   ]
  },
  {
   "cell_type": "markdown",
   "metadata": {},
   "source": [
    "#### How to change or add elements in a nested dictionary?"
   ]
  },
  {
   "cell_type": "code",
   "execution_count": null,
   "metadata": {
    "collapsed": false
   },
   "outputs": [],
   "source": [
    "people[3] = {}\n",
    "\n",
    "people[3]['name'] = 'Luna'\n",
    "people[3]['age'] = '24'\n",
    "people[3]['sex'] = 'Female'\n",
    "people[3]['married'] = 'No'\n",
    "\n",
    "people[4] = {'name': 'Peter', 'age': '29', 'sex': 'Male', 'married': 'Yes'}\n",
    "\n",
    "print(people[3])\n",
    "print(people[4])"
   ]
  },
  {
   "cell_type": "markdown",
   "metadata": {},
   "source": [
    "#### How to iterate through a Nested dictionary?"
   ]
  },
  {
   "cell_type": "code",
   "execution_count": null,
   "metadata": {
    "collapsed": false
   },
   "outputs": [],
   "source": [
    "for p_id, p_info in people.items():\n",
    "    print(\"\\nPerson ID:\", p_id)\n",
    "    \n",
    "    for key in p_info:\n",
    "        print(key + ':', p_info[key])"
   ]
  },
  {
   "cell_type": "markdown",
   "metadata": {},
   "source": [
    "### Key Points to Remember:\n",
    "1. Nested dictionary is an unordered collection of dictionary\n",
    "2. Slicing Nested Dictionary is not possible.\n",
    "3. We can shrink or grow nested dictionary as need.\n",
    "4. Like Dictionary, it also has key and value.\n",
    "5. Dictionary are accessed using key."
   ]
  },
  {
   "cell_type": "markdown",
   "metadata": {},
   "source": [
    "## Python File I/O\n",
    "### How to open a file?\n",
    "Python has a built-in function <code>open()</code> to open a file. This function returns a file object, also called a handle, as it is used to read or modify the file accordingly.\n",
    "\n",
    "We can specify the mode while opening a file. In mode, we specify whether we want to read 'r', write 'w' or append 'a' to the file. We also specify if we want to open the file in text mode or binary mode.\n",
    "\n",
    "The default is reading in text mode. In this mode, we get strings when reading from the file.\n",
    "\n",
    "On the other hand, binary mode returns bytes and this is the mode to be used when dealing with non-text files like image or exe files."
   ]
  },
  {
   "cell_type": "markdown",
   "metadata": {},
   "source": [
    "### File Modes\n",
    "<table border=\"1\">\n",
    "\t<caption>Python File Modes</caption>\n",
    "\t<tbody>\n",
    "\t\t<tr>\n",
    "\t\t\t<th>Mode</th>\n",
    "\t\t\t<th>Description</th>\n",
    "\t\t</tr>\n",
    "\t\t<tr>\n",
    "\t\t\t<td>'r'</td>\n",
    "\t\t\t<td>Open a file for reading. (default)</td>\n",
    "\t\t</tr>\n",
    "\t\t<tr>\n",
    "\t\t\t<td>'w'</td>\n",
    "\t\t\t<td>Open a file for writing. Creates a new file if it does not exist or truncates the file if it exists.</td>\n",
    "\t\t</tr>\n",
    "\t\t<tr>\n",
    "\t\t\t<td>'x'</td>\n",
    "\t\t\t<td>Open a file for exclusive creation. If the file already exists, the operation fails.</td>\n",
    "\t\t</tr>\n",
    "\t\t<tr>\n",
    "\t\t\t<td>'a'</td>\n",
    "\t\t\t<td>Open for appending at the end of the file without truncating it. Creates a new file if it does not exist.</td>\n",
    "\t\t</tr>\n",
    "\t\t<tr>\n",
    "\t\t\t<td>'t'</td>\n",
    "\t\t\t<td>Open in text mode. (default)</td>\n",
    "\t\t</tr>\n",
    "\t\t<tr>\n",
    "\t\t\t<td>'b'</td>\n",
    "\t\t\t<td>Open in binary mode.</td>\n",
    "\t\t</tr>\n",
    "\t\t<tr>\n",
    "\t\t\t<td>'+'</td>\n",
    "\t\t\t<td>Open a file for updating (reading and writing)</td>\n",
    "\t\t</tr>\n",
    "\t</tbody>\n",
    "</table>"
   ]
  },
  {
   "cell_type": "code",
   "execution_count": null,
   "metadata": {
    "collapsed": true
   },
   "outputs": [],
   "source": [
    "f = open(\"test.txt\")      # equivalent to 'r' or 'rt'\n",
    "f = open(\"test.txt\",'w')  # write in text mode\n",
    "f = open(\"img.bmp\",'r+b') # read and write in binary mode"
   ]
  },
  {
   "cell_type": "markdown",
   "metadata": {},
   "source": [
    "Unlike other languages, the character 'a' does not imply the number 97 until it is encoded using ASCII (or other equivalent encodings). Moreover, the default encoding is platform dependent. In windows, it is 'cp1252' but 'utf-8' in Linux.\n",
    "\n",
    "So, we must not also rely on the default encoding or else our code will behave differently in different platforms.\n",
    "\n",
    "Hence, when working with files in text mode, it is highly recommended to specify the encoding type."
   ]
  },
  {
   "cell_type": "code",
   "execution_count": null,
   "metadata": {
    "collapsed": true
   },
   "outputs": [],
   "source": [
    "f = open(\"test.txt\",mode = 'r',encoding = 'utf-8')"
   ]
  },
  {
   "cell_type": "markdown",
   "metadata": {},
   "source": [
    "### How to close a file Using Python?\n",
    "When we are done with operations to the file, we need to properly close the file.\n",
    "\n",
    "Closing a file will free up the resources that were tied with the file and is done using Python close() method.\n",
    "\n",
    "Python has a garbage collector to clean up unreferenced objects but, we must not rely on it to close the file."
   ]
  },
  {
   "cell_type": "code",
   "execution_count": null,
   "metadata": {
    "collapsed": false
   },
   "outputs": [],
   "source": [
    "f = open(\"test.txt\",encoding = 'utf-8')\n",
    "# perform file operations\n",
    "f.close()"
   ]
  },
  {
   "cell_type": "markdown",
   "metadata": {},
   "source": [
    "This method is not entirely safe. If an exception occurs when we are performing some operation with the file, the code exits without closing the file.\n",
    "\n",
    "A safer way is to use a try...finally block."
   ]
  },
  {
   "cell_type": "code",
   "execution_count": null,
   "metadata": {
    "collapsed": true
   },
   "outputs": [],
   "source": [
    "try:\n",
    "    f = open(\"test.txt\",encoding = 'utf-8')\n",
    "    # perform file operations\n",
    "finally:\n",
    "    f.close()"
   ]
  },
  {
   "cell_type": "markdown",
   "metadata": {},
   "source": [
    "The best way to do this is using the with statement. This ensures that the file is closed when the block inside with is exited. We don't need to explicitly call the close() method. It is done internally."
   ]
  },
  {
   "cell_type": "code",
   "execution_count": null,
   "metadata": {
    "collapsed": true
   },
   "outputs": [],
   "source": [
    "with open(\"test.txt\",encoding = 'utf-8') as f:\n",
    "    # perform file operations"
   ]
  },
  {
   "cell_type": "markdown",
   "metadata": {},
   "source": [
    "### How to write to File Using Python?\n",
    "In order to write into a file in Python, we need to open it in write 'w', append 'a' or exclusive creation 'x' mode.\n",
    "\n",
    "We need to be careful with the 'w' mode as it will overwrite into the file if it already exists. All previous data are erased.\n",
    "\n",
    "Writing a string or sequence of bytes (for binary files) is done using write() method. This method returns the number of characters written to the file."
   ]
  },
  {
   "cell_type": "code",
   "execution_count": null,
   "metadata": {
    "collapsed": true
   },
   "outputs": [],
   "source": [
    "with open(\"test.txt\",'w',encoding = 'utf-8') as f:\n",
    "    f.write(\"my first file\\n\")\n",
    "    f.write(\"This file\\n\\n\")\n",
    "    f.write(\"contains three lines\\n\")"
   ]
  },
  {
   "cell_type": "markdown",
   "metadata": {},
   "source": [
    "### How to read files in Python?\n",
    "\n",
    "To read a file in Python, we must open the file in reading mode.\n",
    "\n",
    "There are various methods available for this purpose. We can use the read(size) method to read in size number of data. If size parameter is not specified, it reads and returns up to the end of the file."
   ]
  },
  {
   "cell_type": "code",
   "execution_count": null,
   "metadata": {
    "collapsed": true
   },
   "outputs": [],
   "source": [
    "f = open(\"test.txt\",'r',encoding = 'utf-8')\n",
    "f.read(4)    # read the first 4 data\n",
    "f.read(4)    # read the next 4 data\n",
    "f.read()     # read in the rest till end of file\n",
    "f.read()  # further reading returns empty sting"
   ]
  },
  {
   "cell_type": "markdown",
   "metadata": {},
   "source": [
    "We can change our current file cursor (position) using the seek() method. Similarly, the tell() method returns our current position (in number of bytes)."
   ]
  },
  {
   "cell_type": "code",
   "execution_count": null,
   "metadata": {
    "collapsed": true
   },
   "outputs": [],
   "source": [
    "f.tell()\n",
    "f.seek(0)\n",
    "print(f.read())"
   ]
  },
  {
   "cell_type": "markdown",
   "metadata": {},
   "source": [
    "We can read a file line-by-line using a for loop. This is both efficient and fast.\n",
    "\n",
    "Alternately, we can use readline() method to read individual lines of a file. This method reads a file till the newline, including the newline character."
   ]
  },
  {
   "cell_type": "code",
   "execution_count": null,
   "metadata": {
    "collapsed": true
   },
   "outputs": [],
   "source": [
    "for line in f:\n",
    "    print(line, end = '')\n",
    "    \n",
    "f.readline()"
   ]
  },
  {
   "cell_type": "markdown",
   "metadata": {},
   "source": [
    "Lastly, the **readlines()** method returns a list of remaining lines of the entire file. All these reading method return empty values when end of file (EOF) is reached."
   ]
  },
  {
   "cell_type": "code",
   "execution_count": null,
   "metadata": {
    "collapsed": true
   },
   "outputs": [],
   "source": [
    "f.readlines()"
   ]
  },
  {
   "cell_type": "markdown",
   "metadata": {},
   "source": [
    "### File Methods\n",
    "\n",
    "<table border=\"1\">\n",
    "\t<caption>Python File Methods</caption>\n",
    "\t<tbody>\n",
    "\t\t<tr>\n",
    "\t\t\t<th>Method</th>\n",
    "\t\t\t<th>Description</th>\n",
    "\t\t</tr>\n",
    "\t\t<tr>\n",
    "\t\t\t<td>close()</td>\n",
    "\t\t\t<td>Close an open file. It has no effect if the file is already closed.</td>\n",
    "\t\t</tr>\n",
    "\t\t<tr>\n",
    "\t\t\t<td>detach()</td>\n",
    "\t\t\t<td>Separate the underlying binary buffer from the <code>TextIOBase</code> and return it.</td>\n",
    "\t\t</tr>\n",
    "\t\t<tr>\n",
    "\t\t\t<td>fileno()</td>\n",
    "\t\t\t<td>Return an integer number (file descriptor) of the file.</td>\n",
    "\t\t</tr>\n",
    "\t\t<tr>\n",
    "\t\t\t<td>flush()</td>\n",
    "\t\t\t<td>Flush the write buffer of the file stream.</td>\n",
    "\t\t</tr>\n",
    "\t\t<tr>\n",
    "\t\t\t<td>isatty()</td>\n",
    "\t\t\t<td>Return <code>True</code> if the file stream is interactive.</td>\n",
    "\t\t</tr>\n",
    "\t\t<tr>\n",
    "\t\t\t<td>read(<var>n</var>)</td>\n",
    "\t\t\t<td>Read atmost <var>n</var> characters form the file. Reads till end of file if it is negative or <code>None</code>.</td>\n",
    "\t\t</tr>\n",
    "\t\t<tr>\n",
    "\t\t\t<td>readable()</td>\n",
    "\t\t\t<td>Returns <code>True</code> if the file stream can be read from.</td>\n",
    "\t\t</tr>\n",
    "\t\t<tr>\n",
    "\t\t\t<td>readline(<var>n</var>=-1)</td>\n",
    "\t\t\t<td>Read and return one line from the file. Reads in at most <var>n</var> bytes if specified.</td>\n",
    "\t\t</tr>\n",
    "\t\t<tr>\n",
    "\t\t\t<td>readlines(<var>n</var>=-1)</td>\n",
    "\t\t\t<td>Read and return a list of lines from the file. Reads in at most <var>n</var> bytes/characters if specified.</td>\n",
    "\t\t</tr>\n",
    "\t\t<tr>\n",
    "\t\t\t<td>seek(<var>offset</var>,<var>from</var>=<code>SEEK_SET</code>)</td>\n",
    "\t\t\t<td>Change the file position to <var>offset</var> bytes, in reference to <var>from</var> (start, current, end).</td>\n",
    "\t\t</tr>\n",
    "\t\t<tr>\n",
    "\t\t\t<td>seekable()</td>\n",
    "\t\t\t<td>Returns <code>True</code> if the file stream supports random access.</td>\n",
    "\t\t</tr>\n",
    "\t\t<tr>\n",
    "\t\t\t<td>tell()</td>\n",
    "\t\t\t<td>Returns the current file location.</td>\n",
    "\t\t</tr>\n",
    "\t\t<tr>\n",
    "\t\t\t<td>truncate(<var>size</var>=<code>None</code>)</td>\n",
    "\t\t\t<td>Resize the file stream to <var>size</var> bytes. If <var>size</var> is not specified, resize to current location.</td>\n",
    "\t\t</tr>\n",
    "\t\t<tr>\n",
    "\t\t\t<td>writable()</td>\n",
    "\t\t\t<td>Returns <code>True</code> if the file stream can be written to.</td>\n",
    "\t\t</tr>\n",
    "\t\t<tr>\n",
    "\t\t\t<td>write(<var>s</var>)</td>\n",
    "\t\t\t<td>Write string <var>s</var> to the file and return the number of characters written.</td>\n",
    "\t\t</tr>\n",
    "\t\t<tr>\n",
    "\t\t\t<td>writelines(<var>lines</var>)</td>\n",
    "\t\t\t<td>Write a list of <var>lines</var> to the file.</td>\n",
    "\t\t</tr>\n",
    "\t</tbody>\n",
    "</table>"
   ]
  },
  {
   "cell_type": "markdown",
   "metadata": {},
   "source": [
    "## Python Directory and Files Management\n",
    "\n",
    "### Get Current Directory\n",
    "We can get the present working directory using the getcwd() method.\n",
    "\n",
    "This method returns the current working directory in the form of a string. We can also use the getcwdb() method to get it as bytes object."
   ]
  },
  {
   "cell_type": "code",
   "execution_count": 5,
   "metadata": {
    "collapsed": false
   },
   "outputs": [
    {
     "name": "stdout",
     "output_type": "stream",
     "text": [
      "C:\\Users\\pd010\\Desktop\\PythonLesson\n"
     ]
    }
   ],
   "source": [
    "import os\n",
    "print(os.getcwd())"
   ]
  },
  {
   "cell_type": "markdown",
   "metadata": {},
   "source": [
    "### Changing Directory\n",
    "We can change the current working directory using the chdir() method.\n",
    "\n",
    "The new path that we want to change to must be supplied as a string to this method. We can use both forward slash (/) or the backward slash (\\) to separate path elements.\n",
    "\n",
    "It is safer to use escape sequence when using the backward slash."
   ]
  },
  {
   "cell_type": "code",
   "execution_count": 9,
   "metadata": {
    "collapsed": false
   },
   "outputs": [
    {
     "name": "stdout",
     "output_type": "stream",
     "text": [
      "C:\\Users\n"
     ]
    }
   ],
   "source": [
    "os.chdir('C:\\\\Users')\n",
    "print(os.getcwd())\n",
    "\n",
    "os.chdir(r'C:\\Users\\pd010\\Desktop\\PythonLesson')"
   ]
  },
  {
   "cell_type": "markdown",
   "metadata": {},
   "source": [
    "### List Directories and Files\n",
    "All files and sub directories inside a directory can be known using the listdir() method.\n",
    "\n",
    "This method takes in a path and returns a list of sub directories and files in that path. If no path is specified, it returns from the current working directory."
   ]
  },
  {
   "cell_type": "code",
   "execution_count": null,
   "metadata": {
    "collapsed": true
   },
   "outputs": [],
   "source": [
    "print(os.listdir())"
   ]
  },
  {
   "cell_type": "markdown",
   "metadata": {},
   "source": [
    "### Making a New Directory\n",
    "We can make a new directory using the mkdir() method.\n",
    "\n",
    "This method takes in the path of the new directory. If the full path is not specified, the new directory is created in the current working directory."
   ]
  },
  {
   "cell_type": "code",
   "execution_count": null,
   "metadata": {
    "collapsed": true
   },
   "outputs": [],
   "source": [
    "os.mkdir('test')\n",
    "os.listdir()"
   ]
  },
  {
   "cell_type": "markdown",
   "metadata": {},
   "source": [
    "## Python Errors and Built-in Exceptions\n",
    "When writing a program, we, more often than not, will encounter errors. Error caused by not following the proper structure (syntax) of the language is called syntax error or parsing error.\n",
    "\n",
    "<table border=\"1\">\n",
    "\t<caption>Python Built-in Exceptions</caption>\n",
    "\t<tbody>\n",
    "\t\t<tr>\n",
    "\t\t\t<th scope=\"col\">Exception</th>\n",
    "\t\t\t<th scope=\"col\">Cause of Error</th>\n",
    "\t\t</tr>\n",
    "\t\t<tr>\n",
    "\t\t\t<td>AssertionError</td>\n",
    "\t\t\t<td>Raised when <code>assert</code> statement fails.</td>\n",
    "\t\t</tr>\n",
    "\t\t<tr>\n",
    "\t\t\t<td>AttributeError</td>\n",
    "\t\t\t<td>Raised when attribute assignment or reference fails.</td>\n",
    "\t\t</tr>\n",
    "\t\t<tr>\n",
    "\t\t\t<td>EOFError</td>\n",
    "\t\t\t<td>Raised when the <code>input()</code> functions hits end-of-file condition.</td>\n",
    "\t\t</tr>\n",
    "\t\t<tr>\n",
    "\t\t\t<td>FloatingPointError</td>\n",
    "\t\t\t<td>Raised when a floating point operation fails.</td>\n",
    "\t\t</tr>\n",
    "\t\t<tr>\n",
    "\t\t\t<td>GeneratorExit</td>\n",
    "\t\t\t<td>Raise when a generator's <code>close()</code> method is called.</td>\n",
    "\t\t</tr>\n",
    "\t\t<tr>\n",
    "\t\t\t<td>ImportError</td>\n",
    "\t\t\t<td>Raised when the imported module is not found.</td>\n",
    "\t\t</tr>\n",
    "\t\t<tr>\n",
    "\t\t\t<td>IndexError</td>\n",
    "\t\t\t<td>Raised when index of a sequence is out of range.</td>\n",
    "\t\t</tr>\n",
    "\t\t<tr>\n",
    "\t\t\t<td>KeyError</td>\n",
    "\t\t\t<td>Raised when a key is not found in a dictionary.</td>\n",
    "\t\t</tr>\n",
    "\t\t<tr>\n",
    "\t\t\t<td>KeyboardInterrupt</td>\n",
    "\t\t\t<td>Raised when the user hits interrupt key (Ctrl+c or delete).</td>\n",
    "\t\t</tr>\n",
    "\t\t<tr>\n",
    "\t\t\t<td>MemoryError</td>\n",
    "\t\t\t<td>Raised when an operation runs out of memory.</td>\n",
    "\t\t</tr>\n",
    "\t\t<tr>\n",
    "\t\t\t<td>NameError</td>\n",
    "\t\t\t<td>Raised when a variable is not found in local or global scope.</td>\n",
    "\t\t</tr>\n",
    "\t\t<tr>\n",
    "\t\t\t<td>NotImplementedError</td>\n",
    "\t\t\t<td>Raised by abstract methods.</td>\n",
    "\t\t</tr>\n",
    "\t\t<tr>\n",
    "\t\t\t<td>OSError</td>\n",
    "\t\t\t<td>Raised when system operation causes system related error.</td>\n",
    "\t\t</tr>\n",
    "\t\t<tr>\n",
    "\t\t\t<td>OverflowError</td>\n",
    "\t\t\t<td>Raised when result of an arithmetic operation is too large to be represented.</td>\n",
    "\t\t</tr>\n",
    "\t\t<tr>\n",
    "\t\t\t<td>ReferenceError</td>\n",
    "\t\t\t<td>Raised when a weak reference proxy is used to access a garbage collected referent.</td>\n",
    "\t\t</tr>\n",
    "\t\t<tr>\n",
    "\t\t\t<td>RuntimeError</td>\n",
    "\t\t\t<td>Raised when an error does not fall under any other category.</td>\n",
    "\t\t</tr>\n",
    "\t\t<tr>\n",
    "\t\t\t<td>StopIteration</td>\n",
    "\t\t\t<td>Raised by <code>next()</code> function to indicate that there is no further item to be returned by iterator.</td>\n",
    "\t\t</tr>\n",
    "\t\t<tr>\n",
    "\t\t\t<td>SyntaxError</td>\n",
    "\t\t\t<td>Raised by parser when syntax error is encountered.</td>\n",
    "\t\t</tr>\n",
    "\t\t<tr>\n",
    "\t\t\t<td>IndentationError</td>\n",
    "\t\t\t<td>Raised when there is incorrect indentation.</td>\n",
    "\t\t</tr>\n",
    "\t\t<tr>\n",
    "\t\t\t<td>TabError</td>\n",
    "\t\t\t<td>Raised when indentation consists of inconsistent tabs and spaces.</td>\n",
    "\t\t</tr>\n",
    "\t\t<tr>\n",
    "\t\t\t<td>SystemError</td>\n",
    "\t\t\t<td>Raised when interpreter detects internal error.</td>\n",
    "\t\t</tr>\n",
    "\t\t<tr>\n",
    "\t\t\t<td>SystemExit</td>\n",
    "\t\t\t<td>Raised by <code>sys.exit()</code> function.</td>\n",
    "\t\t</tr>\n",
    "\t\t<tr>\n",
    "\t\t\t<td>TypeError</td>\n",
    "\t\t\t<td>Raised when a function or operation is applied to an object of incorrect type.</td>\n",
    "\t\t</tr>\n",
    "\t\t<tr>\n",
    "\t\t\t<td>UnboundLocalError</td>\n",
    "\t\t\t<td>Raised when a reference is made to a local variable in a function or method, but no value has been bound to that variable.</td>\n",
    "\t\t</tr>\n",
    "\t\t<tr>\n",
    "\t\t\t<td>UnicodeError</td>\n",
    "\t\t\t<td>Raised when a Unicode-related encoding or decoding error occurs.</td>\n",
    "\t\t</tr>\n",
    "\t\t<tr>\n",
    "\t\t\t<td>UnicodeEncodeError</td>\n",
    "\t\t\t<td>Raised when a Unicode-related error occurs during encoding.</td>\n",
    "\t\t</tr>\n",
    "\t\t<tr>\n",
    "\t\t\t<td>UnicodeDecodeError</td>\n",
    "\t\t\t<td>Raised when a Unicode-related error occurs during decoding.</td>\n",
    "\t\t</tr>\n",
    "\t\t<tr>\n",
    "\t\t\t<td>UnicodeTranslateError</td>\n",
    "\t\t\t<td>Raised when a Unicode-related error occurs during translating.</td>\n",
    "\t\t</tr>\n",
    "\t\t<tr>\n",
    "\t\t\t<td>ValueError</td>\n",
    "\t\t\t<td>Raised when a function gets argument of correct type but improper value.</td>\n",
    "\t\t</tr>\n",
    "\t\t<tr>\n",
    "\t\t\t<td>ZeroDivisionError</td>\n",
    "\t\t\t<td>Raised when second operand of division or modulo operation is zero.</td>\n",
    "\t\t</tr>\n",
    "\t</tbody>\n",
    "</table>"
   ]
  },
  {
   "cell_type": "markdown",
   "metadata": {},
   "source": [
    "## Python Exception Handling - Try, Except and Finally\n",
    "\n",
    "Python has many built-in exceptions which forces your program to output an error when something in it goes wrong. When these exceptions occur, it causes the current process to stop and passes it to the calling process until it is handled. If not handled, our program will crash.\n",
    "\n",
    "For example, if function A calls function B which in turn calls function C and an exception occurs in function C. If it is not handled in C, the exception passes to B and then to A.\n",
    "\n",
    "If never handled, an error message is spit out and our program come to a sudden, unexpected halt. Exceptions can be handled using a try statement.\n",
    "\n",
    "A critical operation which can raise exception is placed inside the try clause and the code that handles exception is written in except clause.\n",
    "\n",
    "It is up to us, what operations we perform once we have caught the exception. Here is a simple example."
   ]
  },
  {
   "cell_type": "code",
   "execution_count": null,
   "metadata": {
    "collapsed": true
   },
   "outputs": [],
   "source": [
    "# import module sys to get the type of exception\n",
    "import sys\n",
    "\n",
    "randomList = ['a', 0, 2]\n",
    "\n",
    "for entry in randomList:\n",
    "    try:\n",
    "        print(\"The entry is\", entry)\n",
    "        r = 1/int(entry)\n",
    "        break\n",
    "    except:\n",
    "        print(\"Oops!\",sys.exc_info()[0],\"occured.\")\n",
    "        print(\"Next entry.\")\n",
    "        print()\n",
    "print(\"The reciprocal of\",entry,\"is\",r)"
   ]
  },
  {
   "cell_type": "markdown",
   "metadata": {},
   "source": [
    "### Catching Specific Exceptions in Python\n",
    "In the above example, we did not mention any exception in the except clause.\n",
    "\n",
    "This is not a good programming practice as it will catch all exceptions and handle every case in the same way. We can specify which exceptions an except clause will catch.\n",
    "\n",
    "A try clause can have any number of except clause to handle them differently but only one will be executed in case an exception occurs.\n",
    "\n",
    "We can use a tuple of values to specify multiple exceptions in an except clause. Here is an example pseudo code."
   ]
  },
  {
   "cell_type": "code",
   "execution_count": null,
   "metadata": {
    "collapsed": true
   },
   "outputs": [],
   "source": [
    "try:\n",
    "    # do something\n",
    "    pass\n",
    "except ValueError:\n",
    "    # handle ValueError exception\n",
    "    pass\n",
    "except (TypeError, ZeroDivisionError):\n",
    "    # handle multiple exceptions\n",
    "    # TypeError and ZeroDivisionError\n",
    "    pass\n",
    "except:\n",
    "    # handle all other exceptions\n",
    "    pass"
   ]
  },
  {
   "cell_type": "markdown",
   "metadata": {},
   "source": [
    "### Raising Exceptions\n",
    "In Python programming, exceptions are raised when corresponding errors occur at run time, but we can forcefully raise it using the keyword raise.\n",
    "\n",
    "We can also optionally pass in value to the exception to clarify why that exception was raised."
   ]
  },
  {
   "cell_type": "code",
   "execution_count": 10,
   "metadata": {
    "collapsed": false
   },
   "outputs": [
    {
     "ename": "KeyboardInterrupt",
     "evalue": "",
     "output_type": "error",
     "traceback": [
      "\u001b[0;31m---------------------------------------------------------------------------\u001b[0m",
      "\u001b[0;31mKeyboardInterrupt\u001b[0m                         Traceback (most recent call last)",
      "\u001b[0;32m<ipython-input-10-7d145351408f>\u001b[0m in \u001b[0;36m<module>\u001b[0;34m()\u001b[0m\n\u001b[0;32m----> 1\u001b[0;31m \u001b[1;32mraise\u001b[0m \u001b[0mKeyboardInterrupt\u001b[0m\u001b[1;33m\u001b[0m\u001b[0m\n\u001b[0m",
      "\u001b[0;31mKeyboardInterrupt\u001b[0m: "
     ]
    }
   ],
   "source": [
    "raise KeyboardInterrupt"
   ]
  },
  {
   "cell_type": "code",
   "execution_count": null,
   "metadata": {
    "collapsed": true
   },
   "outputs": [],
   "source": [
    "raise MemoryError(\"This is an argument\")"
   ]
  },
  {
   "cell_type": "markdown",
   "metadata": {},
   "source": [
    "### try...finally\n",
    "The try statement in Python can have an optional finally clause. This clause is executed no matter what, and is generally used to release external resources.\n",
    "\n",
    "For example, we may be connected to a remote data center through the network or working with a file or working with a Graphical User Interface (GUI).\n",
    "\n",
    "In all these circumstances, we must clean up the resource once used, whether it was successful or not. These actions (closing a file, GUI or disconnecting from network) are performed in the finally clause to guarantee execution.\n",
    "\n",
    "Here is an example of file operations to illustrate this."
   ]
  },
  {
   "cell_type": "code",
   "execution_count": null,
   "metadata": {
    "collapsed": true
   },
   "outputs": [],
   "source": [
    "try:\n",
    "    f = open(\"test.txt\",encoding = 'utf-8')\n",
    "    # perform file operations\n",
    "finally:\n",
    "    f.close()"
   ]
  },
  {
   "cell_type": "markdown",
   "metadata": {},
   "source": [
    "### Python Custom Exceptions(User defined Exceptions)\n",
    "Python has many built-in exceptions which forces your program to output an error when something in it goes wrong.\n",
    "\n",
    "However, sometimes you may need to create custom exceptions that serves your purpose.\n",
    "\n",
    "In Python, users can define such exceptions by creating a new class. This exception class has to be derived, either directly or indirectly, from Exception class. Most of the built-in exceptions are also derived form this class."
   ]
  },
  {
   "cell_type": "code",
   "execution_count": 12,
   "metadata": {
    "collapsed": false
   },
   "outputs": [
    {
     "name": "stdout",
     "output_type": "stream",
     "text": [
      "Enter a number: 1\n",
      "This value is too small, try again!\n",
      "\n",
      "Enter a number: 4\n",
      "This value is too small, try again!\n",
      "\n",
      "Enter a number: 8\n",
      "This value is too small, try again!\n",
      "\n",
      "Enter a number: 34\n",
      "This value is too large, try again!\n",
      "\n",
      "Enter a number: 20\n",
      "This value is too large, try again!\n",
      "\n",
      "Enter a number: 10\n",
      "Congratulations! You guessed it correctly.\n"
     ]
    }
   ],
   "source": [
    "# define Python user-defined exceptions\n",
    "class Error(Exception):\n",
    "    \"\"\"Base class for other exceptions\"\"\"\n",
    "    pass\n",
    "\n",
    "class ValueTooSmallError(Error):\n",
    "    \"\"\"Raised when the input value is too small\"\"\"\n",
    "    pass\n",
    "\n",
    "class ValueTooLargeError(Error):\n",
    "    \"\"\"Raised when the input value is too large\"\"\"\n",
    "    pass\n",
    "\n",
    "# our main program\n",
    "# user guesses a number until he/she gets it right\n",
    "# you need to guess this number\n",
    "number = 10\n",
    "while True:\n",
    "    try:\n",
    "        i_num = int(input(\"Enter a number: \"))\n",
    "        if i_num < number:\n",
    "            raise ValueTooSmallError\n",
    "        elif i_num > number:\n",
    "            raise ValueTooLargeError\n",
    "        break\n",
    "    except ValueTooSmallError:\n",
    "        print(\"This value is too small, try again!\")\n",
    "        print()\n",
    "    except ValueTooLargeError:\n",
    "        print(\"This value is too large, try again!\")\n",
    "        print()\n",
    "print(\"Congratulations! You guessed it correctly.\")"
   ]
  },
  {
   "cell_type": "markdown",
   "metadata": {
    "collapsed": true
   },
   "source": [
    "# Topics that were not covered in our sessions\n",
    "1. Python OOP\n",
    "2. Python Class\n",
    "3. Python Inheritance\n",
    "4. Multiple Inheritance\n",
    "5. Operator Overloading\n",
    "6. Python Iterator\n",
    "7. Python Generator\n",
    "8. Python Closure\n",
    "9. Python Decorator\n",
    "10. Python Property\n",
    "11. Python Regex\n",
    "12. Python Datetime"
   ]
  }
 ],
 "metadata": {
  "kernelspec": {
   "display_name": "Python 3",
   "language": "python",
   "name": "python3"
  },
  "language_info": {
   "codemirror_mode": {
    "name": "ipython",
    "version": 3
   },
   "file_extension": ".py",
   "mimetype": "text/x-python",
   "name": "python",
   "nbconvert_exporter": "python",
   "pygments_lexer": "ipython3",
   "version": "3.6.0"
  }
 },
 "nbformat": 4,
 "nbformat_minor": 2
}
